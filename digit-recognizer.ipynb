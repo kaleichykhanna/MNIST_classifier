{
 "cells": [
  {
   "cell_type": "code",
   "execution_count": 1,
   "id": "be96858e-9d90-4437-9912-7afc43fb272e",
   "metadata": {},
   "outputs": [],
   "source": [
    "import torch\n",
    "from torch.utils.data import Dataset, DataLoader\n",
    "import pandas as pd"
   ]
  },
  {
   "cell_type": "code",
   "execution_count": 2,
   "id": "94fb6a09-831d-44cb-a277-f95f1eb7c4c7",
   "metadata": {},
   "outputs": [
    {
     "name": "stdout",
     "output_type": "stream",
     "text": [
      "cuda device is available\n"
     ]
    }
   ],
   "source": [
    "device = torch.device('cuda')\n",
    "print('{} device is available'.format(device))"
   ]
  },
  {
   "cell_type": "code",
   "execution_count": 3,
   "id": "b3ce75cb-2652-49b5-a51b-23e510ea6fdd",
   "metadata": {},
   "outputs": [],
   "source": [
    "    class MnistDataset(Dataset):\n",
    "        def __init__(self, csv_file, transform=None, target_transform=None):\n",
    "            self.digits = pd.read_csv(csv_file)\n",
    "            self.target_transform = target_transform\n",
    "            \n",
    "        def __len__(self):\n",
    "            return len(self.digits)\n",
    "    \n",
    "        def __getitem__(self, idx):\n",
    "            if torch.is_tensor(idx):\n",
    "                idx = idx.tolist()\n",
    "            label = torch.tensor(self.digits.iloc[idx]['label']).to(device)\n",
    "            image = torch.tensor(self.digits.iloc[idx].drop('label').values, dtype=torch.float64).to(device)\n",
    "            \n",
    "            \n",
    "    \n",
    "            if self.target_transform:\n",
    "                label = self.target_transform(label)\n",
    "            \n",
    "            return image, label"
   ]
  },
  {
   "cell_type": "code",
   "execution_count": 4,
   "id": "cd9cab4f-d925-4515-90e1-e9a53af9899e",
   "metadata": {},
   "outputs": [],
   "source": [
    "from torchvision.transforms import Lambda\n",
    "batch_size =256\n",
    "\n",
    "target_transform = Lambda(lambda y: torch.zeros(10, dtype=torch.float64).to(device).scatter_(0, y.clone().detach(), value=1))\n",
    "\n",
    "train_dataloader = DataLoader(\n",
    "    MnistDataset('./digit-recognizer/train.csv', target_transform=target_transform), \n",
    "    batch_size=batch_size\n",
    ")"
   ]
  },
  {
   "cell_type": "code",
   "execution_count": 5,
   "id": "6ed98445-d684-4604-aff8-3951361509b1",
   "metadata": {},
   "outputs": [],
   "source": [
    "from torch import nn"
   ]
  },
  {
   "cell_type": "code",
   "execution_count": 6,
   "id": "b48306be-1250-4d66-86e9-c98204246dd0",
   "metadata": {},
   "outputs": [],
   "source": [
    "class NeuralNetwork(nn.Module):\n",
    "    def __init__(self):\n",
    "        super().__init__()\n",
    "        self.linear_relu_stack = nn.Sequential(\n",
    "            nn.Linear(784, 1024, dtype=torch.float64), \n",
    "            nn.ReLU(),\n",
    "            nn.Linear(1024, 1024, dtype=torch.float64),\n",
    "            nn.ReLU(),\n",
    "            nn.Linear(1024, 10, dtype=torch.float64),\n",
    "        )\n",
    "\n",
    "    def forward(self, x):\n",
    "        logits = self.linear_relu_stack(x)\n",
    "        return logits"
   ]
  },
  {
   "cell_type": "code",
   "execution_count": 7,
   "id": "24aa45a5-51f1-4ff9-a053-ad3f74ccc9f9",
   "metadata": {},
   "outputs": [],
   "source": [
    "model = NeuralNetwork().to(device)"
   ]
  },
  {
   "cell_type": "code",
   "execution_count": 8,
   "id": "d898d935-ba1a-41e6-ab4d-5176d1736b8e",
   "metadata": {},
   "outputs": [
    {
     "name": "stdout",
     "output_type": "stream",
     "text": [
      "NeuralNetwork(\n",
      "  (linear_relu_stack): Sequential(\n",
      "    (0): Linear(in_features=784, out_features=1024, bias=True)\n",
      "    (1): ReLU()\n",
      "    (2): Linear(in_features=1024, out_features=1024, bias=True)\n",
      "    (3): ReLU()\n",
      "    (4): Linear(in_features=1024, out_features=10, bias=True)\n",
      "  )\n",
      ")\n"
     ]
    }
   ],
   "source": [
    "print(model)"
   ]
  },
  {
   "cell_type": "code",
   "execution_count": 9,
   "id": "5437f5f6-069a-468d-8292-a41e080cb0ae",
   "metadata": {},
   "outputs": [],
   "source": [
    "def test_loop(testfile, model):\n",
    "    model.eval()\n",
    "\n",
    "    data = pd.read_csv(testfile)\n",
    "    data = torch.tensor(data.values, dtype=torch.float64).to(device)\n",
    "    size = len(data)\n",
    "    \n",
    "    pred = torch.argmax(model(data), dim=1)\n",
    "    pred = pred.cpu().numpy() \n",
    "    results = pd.DataFrame(columns = ['Label'], data=pred)\n",
    "    results.index = results.index + 1\n",
    "    print('the index is converted')\n",
    "    submission_file = \"submission.csv\"\n",
    "    results.to_csv(submission_file, index_label='ImageID')\n",
    "    \n",
    "\n",
    "    print(f\"Your result is saved at the {submission_file}\")"
   ]
  },
  {
   "cell_type": "code",
   "execution_count": 10,
   "id": "6a909efb-3ff6-4e55-a043-1bb7b5ef082b",
   "metadata": {},
   "outputs": [],
   "source": [
    "def train_loop(dataloader, model):\n",
    "    model.train()\n",
    "    size = len(dataloader.dataset)\n",
    "\n",
    "    for batch, (X, y) in enumerate(dataloader):\n",
    "        pred = model(X)\n",
    "        loss = loss_fn(pred, y)\n",
    "\n",
    "        loss.backward()\n",
    "        optimizer.step()\n",
    "        optimizer.zero_grad()\n",
    "\n",
    "\n",
    "        if batch % 100 == 0:\n",
    "            loss, current = loss.item(), batch * batch_size + len(X)\n",
    "            print(f\"loss: {loss:>7f}  [{current:>5d}/{size:>5d}]\")"
   ]
  },
  {
   "cell_type": "code",
   "execution_count": 12,
   "id": "2f3ab57c-2bd8-4935-a8c6-32cb87c27915",
   "metadata": {},
   "outputs": [
    {
     "name": "stdout",
     "output_type": "stream",
     "text": [
      "Epoch 1\n",
      "-------------------------------\n"
     ]
    },
    {
     "name": "stderr",
     "output_type": "stream",
     "text": [
      "/home/hanna/miniconda3/lib/python3.12/site-packages/torch/nn/modules/linear.py:125: UserWarning: Attempting to use hipBLASLt on an unsupported architecture! Overriding blas backend to hipblas (Triggered internally at ../aten/src/ATen/Context.cpp:296.)\n",
      "  return F.linear(input, self.weight, self.bias)\n"
     ]
    },
    {
     "name": "stdout",
     "output_type": "stream",
     "text": [
      "loss: 15.429134  [  256/42000]\n",
      "loss: 0.181862  [25856/42000]\n",
      "Epoch 2\n",
      "-------------------------------\n",
      "loss: 0.165186  [  256/42000]\n",
      "loss: 0.097523  [25856/42000]\n",
      "Epoch 3\n",
      "-------------------------------\n",
      "loss: 0.055355  [  256/42000]\n",
      "loss: 0.057772  [25856/42000]\n",
      "Epoch 4\n",
      "-------------------------------\n",
      "loss: 0.075075  [  256/42000]\n",
      "loss: 0.048451  [25856/42000]\n",
      "Epoch 5\n",
      "-------------------------------\n",
      "loss: 0.034809  [  256/42000]\n",
      "loss: 0.052990  [25856/42000]\n",
      "Epoch 6\n",
      "-------------------------------\n",
      "loss: 0.029962  [  256/42000]\n",
      "loss: 0.017753  [25856/42000]\n",
      "Epoch 7\n",
      "-------------------------------\n",
      "loss: 0.034573  [  256/42000]\n",
      "loss: 0.028579  [25856/42000]\n",
      "Epoch 8\n",
      "-------------------------------\n",
      "loss: 0.073928  [  256/42000]\n",
      "loss: 0.057237  [25856/42000]\n",
      "Epoch 9\n",
      "-------------------------------\n",
      "loss: 0.078055  [  256/42000]\n",
      "loss: 0.041968  [25856/42000]\n",
      "Epoch 10\n",
      "-------------------------------\n",
      "loss: 0.013203  [  256/42000]\n",
      "loss: 0.042546  [25856/42000]\n",
      "Done!\n"
     ]
    }
   ],
   "source": [
    "epochs = 10\n",
    "learning_rate = 1e-3\n",
    "\n",
    "loss_fn = nn.CrossEntropyLoss()\n",
    "optimizer = torch.optim.Adam(model.parameters(), lr=learning_rate)\n",
    "\n",
    "for t in range(epochs):\n",
    "    print(f\"Epoch {t+1}\\n-------------------------------\")\n",
    "    train_loop(train_dataloader, model)\n",
    "\n",
    "print(\"Done!\")"
   ]
  },
  {
   "cell_type": "code",
   "execution_count": 13,
   "id": "0b55863e-3e5b-473d-8de3-24e732b296d8",
   "metadata": {},
   "outputs": [
    {
     "name": "stdout",
     "output_type": "stream",
     "text": [
      "the index is converted\n",
      "Your result is saved at the submission.csv\n"
     ]
    }
   ],
   "source": [
    "test_loop('./digit-recognizer/test.csv', model)"
   ]
  }
 ],
 "metadata": {
  "kernelspec": {
   "display_name": "Python 3 (ipykernel)",
   "language": "python",
   "name": "python3"
  },
  "language_info": {
   "codemirror_mode": {
    "name": "ipython",
    "version": 3
   },
   "file_extension": ".py",
   "mimetype": "text/x-python",
   "name": "python",
   "nbconvert_exporter": "python",
   "pygments_lexer": "ipython3",
   "version": "3.12.7"
  }
 },
 "nbformat": 4,
 "nbformat_minor": 5
}
